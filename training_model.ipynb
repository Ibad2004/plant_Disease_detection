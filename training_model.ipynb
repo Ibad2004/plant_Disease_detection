{
 "cells": [
  {
   "cell_type": "code",
   "execution_count": 1,
   "id": "6163d22b",
   "metadata": {},
   "outputs": [],
   "source": [
    "import tensorflow as tf\n",
    "import matplotlib.pyplot as plt\n",
    "import numpy as np\n",
    "import seaborn as sns\n",
    "import pandas as pd\n"
   ]
  },
  {
   "cell_type": "code",
   "execution_count": 2,
   "id": "81a38d20",
   "metadata": {},
   "outputs": [
    {
     "name": "stdout",
     "output_type": "stream",
     "text": [
      "[PhysicalDevice(name='/physical_device:GPU:0', device_type='GPU')]\n"
     ]
    }
   ],
   "source": [
    "print(tf.config.list_physical_devices('GPU'))"
   ]
  },
  {
   "cell_type": "code",
   "execution_count": null,
   "id": "e274af67",
   "metadata": {},
   "outputs": [
    {
     "name": "stdout",
     "output_type": "stream",
     "text": [
      "Sun Jun  1 12:50:45 2025       \n",
      "+-----------------------------------------------------------------------------------------+\n",
      "| NVIDIA-SMI 573.24                 Driver Version: 573.24         CUDA Version: 12.8     |\n",
      "|-----------------------------------------+------------------------+----------------------+\n",
      "| GPU  Name                  Driver-Model | Bus-Id          Disp.A | Volatile Uncorr. ECC |\n",
      "| Fan  Temp   Perf          Pwr:Usage/Cap |           Memory-Usage | GPU-Util  Compute M. |\n",
      "|                                         |                        |               MIG M. |\n",
      "|=========================================+========================+======================|\n",
      "|   0  NVIDIA RTX A2000 Laptop GPU  WDDM  |   00000000:01:00.0  On |                  N/A |\n",
      "| N/A   57C    P8              8W /   40W |    1183MiB /   4096MiB |     14%      Default |\n",
      "|                                         |                        |                  N/A |\n",
      "+-----------------------------------------+------------------------+----------------------+\n",
      "                                                                                         \n",
      "+-----------------------------------------------------------------------------------------+\n",
      "| Processes:                                                                              |\n",
      "|  GPU   GI   CI              PID   Type   Process name                        GPU Memory |\n",
      "|        ID   ID                                                               Usage      |\n",
      "|=========================================================================================|\n",
      "|    0   N/A  N/A            2228    C+G   ....0.3240.92\\msedgewebview2.exe      N/A      |\n",
      "|    0   N/A  N/A            6996    C+G   ...em32\\ApplicationFrameHost.exe      N/A      |\n",
      "|    0   N/A  N/A            7020    C+G   ...Chrome\\Application\\chrome.exe      N/A      |\n",
      "|    0   N/A  N/A           13708    C+G   C:\\Windows\\explorer.exe               N/A      |\n",
      "|    0   N/A  N/A           13916    C+G   ...indows\\System32\\ShellHost.exe      N/A      |\n",
      "|    0   N/A  N/A           13928    C+G   ...enterService\\DesktopParts.exe      N/A      |\n",
      "|    0   N/A  N/A           13960    C+G   ...Chrome\\Application\\chrome.exe      N/A      |\n",
      "|    0   N/A  N/A           14060    C+G   ...enterService\\FloatingMenu.exe      N/A      |\n",
      "|    0   N/A  N/A           14832    C+G   ...IA app\\CEF\\NVIDIA Overlay.exe      N/A      |\n",
      "|    0   N/A  N/A           15956    C+G   ...IA app\\CEF\\NVIDIA Overlay.exe      N/A      |\n",
      "|    0   N/A  N/A           16388    C+G   ...5n1h2txyewy\\TextInputHost.exe      N/A      |\n",
      "|    0   N/A  N/A           17936    C+G   ..._cw5n1h2txyewy\\SearchHost.exe      N/A      |\n",
      "|    0   N/A  N/A           18056    C+G   ...4__cv1g1gvanyjgm\\WhatsApp.exe      N/A      |\n",
      "|    0   N/A  N/A           18100    C+G   ...y\\StartMenuExperienceHost.exe      N/A      |\n",
      "|    0   N/A  N/A           19080    C+G   ....0.3240.92\\msedgewebview2.exe      N/A      |\n",
      "|    0   N/A  N/A           20036    C+G   ...App_cw5n1h2txyewy\\LockApp.exe      N/A      |\n",
      "|    0   N/A  N/A           22420    C+G   ...8bbwe\\PhoneExperienceHost.exe      N/A      |\n",
      "|    0   N/A  N/A           22596    C+G   ...ntrolPanel\\SystemSettings.exe      N/A      |\n",
      "|    0   N/A  N/A           23348    C+G   ...ms\\Microsoft VS Code\\Code.exe      N/A      |\n",
      "+-----------------------------------------------------------------------------------------+\n"
     ]
    }
   ],
   "source": [
    "!nvidia-smi\n"
   ]
  },
  {
   "cell_type": "code",
   "execution_count": 16,
   "id": "ef723561",
   "metadata": {},
   "outputs": [
    {
     "name": "stdout",
     "output_type": "stream",
     "text": [
      "Total corrupted images removed: 0\n"
     ]
    }
   ],
   "source": [
    "# TO REMOVE CORRUPTED IMAGES\n",
    "\n",
    "import os\n",
    "from PIL import Image\n",
    "\n",
    "RAW_DATASET_DIR = 'raw_dataset'  # Your original dataset folder\n",
    "\n",
    "def remove_corrupted_images(dataset_dir):\n",
    "    removed_files = []\n",
    "    for class_name in os.listdir(dataset_dir):\n",
    "        class_path = os.path.join(dataset_dir, class_name)\n",
    "        if not os.path.isdir(class_path):\n",
    "            continue\n",
    "        for img_file in os.listdir(class_path):\n",
    "            img_path = os.path.join(class_path, img_file)\n",
    "            try:\n",
    "                with Image.open(img_path) as img:\n",
    "                    img.verify()  # Verify if image is corrupted\n",
    "            except (IOError, SyntaxError) as e:\n",
    "                print(f\"Removing corrupted image: {img_path}\")\n",
    "                os.remove(img_path)\n",
    "                removed_files.append(img_path)\n",
    "    return removed_files\n",
    "\n",
    "removed = remove_corrupted_images(RAW_DATASET_DIR)\n",
    "print(f\"Total corrupted images removed: {len(removed)}\")\n"
   ]
  },
  {
   "cell_type": "code",
   "execution_count": 17,
   "id": "038282a2",
   "metadata": {},
   "outputs": [
    {
     "name": "stdout",
     "output_type": "stream",
     "text": [
      "All class folder names are clean!\n"
     ]
    }
   ],
   "source": [
    "# TO CLEAN LABELS\n",
    "import re\n",
    "\n",
    "def check_class_names(dataset_dir):\n",
    "    invalid_names = []\n",
    "    for class_name in os.listdir(dataset_dir):\n",
    "        class_path = os.path.join(dataset_dir, class_name)\n",
    "        if not os.path.isdir(class_path):\n",
    "            continue\n",
    "        # Allow only alphanumeric, underscore, and spaces\n",
    "        if not re.match(r'^[\\w\\s]+$', class_name):\n",
    "            invalid_names.append(class_name)\n",
    "    return invalid_names\n",
    "\n",
    "invalid_classes = check_class_names(RAW_DATASET_DIR)\n",
    "if invalid_classes:\n",
    "    print(\"Invalid class folder names detected:\")\n",
    "    for name in invalid_classes:\n",
    "        print(f\" - {name}\")\n",
    "else:\n",
    "    print(\"All class folder names are clean!\")\n"
   ]
  },
  {
   "cell_type": "code",
   "execution_count": null,
   "id": "36a6fec3",
   "metadata": {},
   "outputs": [
    {
     "name": "stdout",
     "output_type": "stream",
     "text": [
      "Processed 997 images in class 'Pepper__bell___Bacterial_spot'\n",
      "Processed 1478 images in class 'Pepper__bell___healthy'\n",
      "Processed 1000 images in class 'Potato___Early_blight'\n",
      "Processed 152 images in class 'Potato___healthy'\n",
      "Processed 1000 images in class 'Potato___Late_blight'\n",
      "Processed 2127 images in class 'Tomato_Bacterial_spot'\n",
      "Processed 1000 images in class 'Tomato_Early_blight'\n",
      "Processed 1591 images in class 'Tomato_healthy'\n",
      "Processed 1909 images in class 'Tomato_Late_blight'\n",
      "Processed 952 images in class 'Tomato_Leaf_Mold'\n",
      "Processed 1771 images in class 'Tomato_Septoria_leaf_spot'\n",
      "Processed 1676 images in class 'Tomato_Spider_mites_Two_spotted_spider_mite'\n",
      "Processed 1404 images in class 'Tomato__Target_Spot'\n",
      "Processed 373 images in class 'Tomato__Tomato_mosaic_virus'\n",
      "Processed 3208 images in class 'Tomato__Tomato_YellowLeaf__Curl_Virus'\n",
      "Total images processed: 20638\n",
      "Total images skipped: 0\n"
     ]
    }
   ],
   "source": [
    "# Resizing Images and Converting to JPEG\n",
    "\n",
    "from PIL import Image\n",
    "import os\n",
    "\n",
    "def resize_and_convert(dataset_dir, output_dir, target_size):\n",
    "    total_images = 0\n",
    "    total_skipped = 0\n",
    "    for class_name in os.listdir(dataset_dir):\n",
    "        class_path = os.path.join(dataset_dir, class_name)\n",
    "        if not os.path.isdir(class_path):\n",
    "            continue\n",
    "        processed_class_path = os.path.join(output_dir, class_name.replace(' ', '_'))\n",
    "        os.makedirs(processed_class_path, exist_ok=True)\n",
    "\n",
    "        count = 0\n",
    "        for img_name in os.listdir(class_path):\n",
    "            src_path = os.path.join(class_path, img_name)\n",
    "            try:\n",
    "                with Image.open(src_path) as img:\n",
    "                    img = img.convert('RGB')\n",
    "                    img = img.resize(target_size, Image.Resampling.LANCZOS)\n",
    "                    base_name = os.path.splitext(img_name)[0]\n",
    "                    save_path = os.path.join(processed_class_path, base_name + '.jpg')\n",
    "                    img.save(save_path, 'JPEG', quality=95)\n",
    "                count += 1\n",
    "                total_images += 1\n",
    "            except Exception as e:\n",
    "                print(f\"Skipping invalid image {src_path}: {e}\")\n",
    "                total_skipped += 1\n",
    "        print(f\"Processed {count} images in class '{class_name}'\")\n",
    "\n",
    "    print(f\"Total images processed: {total_images}\")\n",
    "    print(f\"Total images skipped: {total_skipped}\")\n",
    "\n",
    "# Example usage:\n",
    "resize_and_convert('raw_dataset', 'processed_dataset', (224, 224))\n"
   ]
  },
  {
   "cell_type": "code",
   "execution_count": 26,
   "id": "7c4735ce",
   "metadata": {},
   "outputs": [
    {
     "name": "stdout",
     "output_type": "stream",
     "text": [
      "Class 'Pepper__bell___Bacterial_spot': 997 images\n",
      "Class 'Pepper__bell___healthy': 1478 images\n",
      "Class 'Potato___Early_blight': 1000 images\n",
      "Class 'Potato___healthy': 152 images\n",
      "Class 'Potato___Late_blight': 1000 images\n",
      "Class 'Tomato_Bacterial_spot': 2127 images\n",
      "Class 'Tomato_Early_blight': 1000 images\n",
      "Class 'Tomato_healthy': 1585 images\n",
      "Class 'Tomato_Late_blight': 1901 images\n",
      "Class 'Tomato_Leaf_Mold': 952 images\n",
      "Class 'Tomato_Septoria_leaf_spot': 1771 images\n",
      "Class 'Tomato_Spider_mites_Two_spotted_spider_mite': 1676 images\n",
      "Class 'Tomato__Target_Spot': 1404 images\n",
      "Class 'Tomato__Tomato_mosaic_virus': 373 images\n",
      "Class 'Tomato__Tomato_YellowLeaf__Curl_Virus': 3208 images\n",
      "Total images in dataset: 20624\n"
     ]
    },
    {
     "data": {
      "text/plain": [
       "20624"
      ]
     },
     "execution_count": 26,
     "metadata": {},
     "output_type": "execute_result"
    }
   ],
   "source": [
    "import os\n",
    "\n",
    "def count_images(dataset_dir):\n",
    "    total_images = 0\n",
    "    for class_name in os.listdir(dataset_dir):\n",
    "        class_path = os.path.join(dataset_dir, class_name)\n",
    "        if not os.path.isdir(class_path):\n",
    "            continue\n",
    "        num_images = len([f for f in os.listdir(class_path) if f.lower().endswith(('.jpg', '.jpeg', '.png'))])\n",
    "        print(f\"Class '{class_name}': {num_images} images\")\n",
    "        total_images += num_images\n",
    "    print(f\"Total images in dataset: {total_images}\")\n",
    "    return total_images\n",
    "\n",
    "count_images('processed_dataset')\n"
   ]
  },
  {
   "cell_type": "code",
   "execution_count": 27,
   "id": "d82db2c6",
   "metadata": {},
   "outputs": [
    {
     "name": "stdout",
     "output_type": "stream",
     "text": [
      "Class 'Pepper__bell___Bacterial_spot': 997 images\n",
      "Class 'Pepper__bell___healthy': 1478 images\n",
      "Class 'Potato___Early_blight': 1000 images\n",
      "Class 'Potato___healthy': 152 images\n",
      "Class 'Potato___Late_blight': 1000 images\n",
      "Class 'Tomato_Bacterial_spot': 2127 images\n",
      "Class 'Tomato_Early_blight': 1000 images\n",
      "Class 'Tomato_healthy': 1591 images\n",
      "Class 'Tomato_Late_blight': 1909 images\n",
      "Class 'Tomato_Leaf_Mold': 952 images\n",
      "Class 'Tomato_Septoria_leaf_spot': 1771 images\n",
      "Class 'Tomato_Spider_mites_Two_spotted_spider_mite': 1676 images\n",
      "Class 'Tomato__Target_Spot': 1404 images\n",
      "Class 'Tomato__Tomato_mosaic_virus': 373 images\n",
      "Class 'Tomato__Tomato_YellowLeaf__Curl_Virus': 3208 images\n",
      "Total images in dataset: 20638\n"
     ]
    },
    {
     "data": {
      "text/plain": [
       "20638"
      ]
     },
     "execution_count": 27,
     "metadata": {},
     "output_type": "execute_result"
    }
   ],
   "source": [
    "import os\n",
    "\n",
    "def count_images(dataset_dir):\n",
    "    total_images = 0\n",
    "    for class_name in os.listdir(dataset_dir):\n",
    "        class_path = os.path.join(dataset_dir, class_name)\n",
    "        if not os.path.isdir(class_path):\n",
    "            continue\n",
    "        num_images = len([f for f in os.listdir(class_path) if f.lower().endswith(('.jpg', '.jpeg', '.png'))])\n",
    "        print(f\"Class '{class_name}': {num_images} images\")\n",
    "        total_images += num_images\n",
    "    print(f\"Total images in dataset: {total_images}\")\n",
    "    return total_images\n",
    "\n",
    "count_images('raw_dataset')"
   ]
  },
  {
   "cell_type": "code",
   "execution_count": 25,
   "id": "e3f2229f",
   "metadata": {},
   "outputs": [
    {
     "name": "stdout",
     "output_type": "stream",
     "text": [
      "Duplicate found, removing: processed_dataset\\Tomato_healthy\\34c81c57-e1fa-49dd-a49d-34fe8b2385fe___GH_HL Leaf 466.1.jpg\n",
      "Duplicate found, removing: processed_dataset\\Tomato_healthy\\505465db-407b-4e0a-8110-7479dad5261c___GH_HL Leaf 389.jpg\n",
      "Duplicate found, removing: processed_dataset\\Tomato_healthy\\a5de43e7-fc2f-4a14-a8e6-c0f2f94c84f1___GH_HL Leaf 434.jpg\n",
      "Duplicate found, removing: processed_dataset\\Tomato_healthy\\cfd491d6-4af5-4728-8f0e-0d330a07174a___GH_HL Leaf 482.2.jpg\n",
      "Duplicate found, removing: processed_dataset\\Tomato_healthy\\d2ce7896-6fa4-45e6-96c5-d162da0e3e1c___GH_HL Leaf 220.jpg\n",
      "Duplicate found, removing: processed_dataset\\Tomato_healthy\\e786ac89-29fe-47e3-b49e-b9a9ee7edd9d___GH_HL Leaf 342.1.jpg\n",
      "Duplicate found, removing: processed_dataset\\Tomato_Late_blight\\2c47b891-3c97-48f1-a2cc-5aa53d3a1148___GHLB2 Leaf 9011.jpg\n",
      "Duplicate found, removing: processed_dataset\\Tomato_Late_blight\\5de6da85-f8c4-48c4-b463-3e6bd78884cc___GHLB_PS Leaf 24 Day 16.jpg\n",
      "Duplicate found, removing: processed_dataset\\Tomato_Late_blight\\bd4f09bd-ee85-4ab1-bce0-8cde3fdd7f1b___GHLB_PS Leaf 23.7 Day 13.jpg\n",
      "Duplicate found, removing: processed_dataset\\Tomato_Late_blight\\c1775bad-7c02-41fb-bb7d-f8df91d60ac3___GHLB_PS Leaf 23.5 Day 13.jpg\n",
      "Duplicate found, removing: processed_dataset\\Tomato_Late_blight\\d81682aa-746b-4e07-af2b-52ebb6f4c017___GHLB2 Leaf 102.jpg\n",
      "Duplicate found, removing: processed_dataset\\Tomato_Late_blight\\d82b634e-9a19-497b-b698-aaf100d622a1___GHLB_PS Leaf 24 Day 13.jpg\n",
      "Duplicate found, removing: processed_dataset\\Tomato_Late_blight\\e20107e7-137f-400e-817f-5dc4c58e5d70___GHLB2 Leaf 8677.jpg\n",
      "Duplicate found, removing: processed_dataset\\Tomato_Late_blight\\e5d707cd-077c-43af-bda9-6138e516ff51___GHLB2 Leaf 8999.jpg\n",
      "Duplicates removed: 14\n"
     ]
    }
   ],
   "source": [
    "import os\n",
    "from PIL import Image\n",
    "\n",
    "PROCESSED_DATASET_DIR = 'processed_dataset'  # update path if different\n",
    "\n",
    "def dhash(image, hash_size=8):\n",
    "    # Use LANCZOS resampling instead of deprecated ANTIALIAS\n",
    "    image = image.convert('L').resize((hash_size + 1, hash_size), Image.Resampling.LANCZOS)\n",
    "    pixels = list(image.getdata())\n",
    "    difference = []\n",
    "    for row in range(hash_size):\n",
    "        for col in range(hash_size):\n",
    "            left_pixel = pixels[row * (hash_size + 1) + col]\n",
    "            right_pixel = pixels[row * (hash_size + 1) + col + 1]\n",
    "            difference.append(left_pixel > right_pixel)\n",
    "    decimal_value = 0\n",
    "    hex_string = []\n",
    "    for index, value in enumerate(difference):\n",
    "        if value:\n",
    "            decimal_value += 2 ** (index % 8)\n",
    "        if (index % 8) == 7:\n",
    "            hex_string.append(hex(decimal_value)[2:].rjust(2, '0'))\n",
    "            decimal_value = 0\n",
    "    return ''.join(hex_string)\n",
    "\n",
    "def remove_duplicates(dataset_dir):\n",
    "    hashes = set()\n",
    "    removed_count = 0\n",
    "    for class_name in os.listdir(dataset_dir):\n",
    "        class_path = os.path.join(dataset_dir, class_name)\n",
    "        if not os.path.isdir(class_path):\n",
    "            continue\n",
    "        for img_name in os.listdir(class_path):\n",
    "            img_path = os.path.join(class_path, img_name)\n",
    "            try:\n",
    "                with Image.open(img_path) as img:\n",
    "                    h = dhash(img)\n",
    "                if h in hashes:\n",
    "                    print(f\"Duplicate found, removing: {img_path}\")\n",
    "                    os.remove(img_path)\n",
    "                    removed_count += 1\n",
    "                else:\n",
    "                    hashes.add(h)\n",
    "            except Exception as e:\n",
    "                print(f\"Error processing image {img_path}: {e}\")\n",
    "    return removed_count\n",
    "\n",
    "duplicates_removed = remove_duplicates(PROCESSED_DATASET_DIR)\n",
    "print(f\"Duplicates removed: {duplicates_removed}\")\n"
   ]
  },
  {
   "cell_type": "code",
   "execution_count": null,
   "id": "baa18cc9",
   "metadata": {},
   "outputs": [],
   "source": []
  }
 ],
 "metadata": {
  "kernelspec": {
   "display_name": "tensorflow_env",
   "language": "python",
   "name": "python3"
  },
  "language_info": {
   "codemirror_mode": {
    "name": "ipython",
    "version": 3
   },
   "file_extension": ".py",
   "mimetype": "text/x-python",
   "name": "python",
   "nbconvert_exporter": "python",
   "pygments_lexer": "ipython3",
   "version": "3.10.17"
  }
 },
 "nbformat": 4,
 "nbformat_minor": 5
}
